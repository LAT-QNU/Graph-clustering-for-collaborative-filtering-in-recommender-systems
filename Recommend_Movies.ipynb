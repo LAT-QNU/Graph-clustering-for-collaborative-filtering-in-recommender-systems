{
 "cells": [
  {
   "cell_type": "code",
   "execution_count": null,
   "metadata": {
    "id": "JyHvpw-cYtU1"
   },
   "outputs": [],
   "source": [
    "import math\n",
    "import csv\n",
    "import numpy as np # type: ignore\n",
    "import pandas as pd # type: ignore\n",
    "from sklearn.cluster import KMeans # type: ignore\n",
    "from sklearn.metrics.pairwise import cosine_similarity # type: ignore\n",
    "import time"
   ]
  },
  {
   "cell_type": "markdown",
   "metadata": {},
   "source": [
    "ĐỌC VÀ XỬ LÝ DỮ LIỆU"
   ]
  },
  {
   "cell_type": "code",
   "execution_count": 2,
   "metadata": {},
   "outputs": [],
   "source": [
    "data_ratings = pd.read_csv(\"data/ratings.dat\", encoding=\"utf-8\", sep='::', header=None, names=['userId','movieId','rating','tmp'], engine='python')\n",
    "del data_ratings['tmp']"
   ]
  },
  {
   "cell_type": "code",
   "execution_count": 4,
   "metadata": {},
   "outputs": [],
   "source": [
    "# Chuyển dữ liệu sang định dạng ma trận\n",
    "ratings_matrix = data_ratings.pivot_table(index='userId', columns='movieId', values='rating').fillna(0)\n",
    "\n",
    "# Tính ma trận tương tự cosin\n",
    "similarity_matrix = cosine_similarity(ratings_matrix)"
   ]
  },
  {
   "cell_type": "markdown",
   "metadata": {},
   "source": [
    "PHÂN CỤM DỮ LIỆU"
   ]
  },
  {
   "cell_type": "code",
   "execution_count": 5,
   "metadata": {},
   "outputs": [],
   "source": [
    "# Phân cụm user sử dụng K-means\n",
    "kmeans = KMeans(n_clusters=4, random_state=0).fit(similarity_matrix)\n",
    "\n",
    "# Gán nhãn cho người dùng\n",
    "user_clusters = pd.DataFrame({'userId': ratings_matrix.index, 'cluster': kmeans.labels_})"
   ]
  },
  {
   "cell_type": "markdown",
   "metadata": {},
   "source": [
    "CHUẨN HOÁ DỮ LIỆU"
   ]
  },
  {
   "cell_type": "code",
   "execution_count": 6,
   "metadata": {},
   "outputs": [],
   "source": [
    "# Chuyển đổi DataFrame sang từ điển\n",
    "user_clusters_dict = user_clusters.set_index('userId').to_dict()['cluster']"
   ]
  },
  {
   "cell_type": "code",
   "execution_count": null,
   "metadata": {},
   "outputs": [],
   "source": [
    "# Thêm cột cluster vào DataFrame\n",
    "data_ratings['cluster'] = data_ratings['userId'].map(dict(zip(ratings_matrix.index, kmeans.labels_)))"
   ]
  },
  {
   "cell_type": "code",
   "execution_count": 8,
   "metadata": {},
   "outputs": [],
   "source": [
    "# Chuyển đổi ma trận tương tự thành dataframe\n",
    "similarity_df = pd.DataFrame(similarity_matrix, index=ratings_matrix.index, columns=ratings_matrix.index)\n",
    "\n",
    "# Chuyển dataframe sang long format\n",
    "similarity_df = similarity_df.reset_index().melt(id_vars='userId', value_name='similarity', var_name='userId2')\n",
    "\n",
    "# Bỏ các hàng có userId bằng userId2\n",
    "similarity_df = similarity_df[similarity_df['userId'] != similarity_df['userId2']]\n",
    "\n",
    "# Đổi tên cột\n",
    "similarity_df = similarity_df.rename(columns={'userId': 'u1', 'userId2': 'u2'})\n",
    "\n",
    "# Sắp xếp các giá trị theo u1, u2\n",
    "similarity_df = similarity_df.sort_values(['u1', 'u2']).reset_index(drop=True)\n"
   ]
  },
  {
   "cell_type": "code",
   "execution_count": 10,
   "metadata": {},
   "outputs": [],
   "source": [
    "# Chuyển similarity_df sang dictionary để tăng tốc độ truy vấn\n",
    "similarity_dict = similarity_df.set_index('u1').groupby(level=0).apply(lambda x: x.set_index('u2')['similarity'].to_dict()).to_dict()"
   ]
  },
  {
   "cell_type": "markdown",
   "metadata": {},
   "source": [
    "GỢI Ý BỘ PHIM"
   ]
  },
  {
   "cell_type": "code",
   "execution_count": 11,
   "metadata": {},
   "outputs": [],
   "source": [
    "def recommend_Movie_Nocluster(user):\n",
    "    # Lấy danh sách các movieId\n",
    "    movies = set(data_ratings['movieId'])\n",
    "    rated_movies = set(data_ratings[data_ratings['userId'] == user]['movieId'])\n",
    "    unrated_movies = movies - rated_movies # Chỉ lấy những phim chưa được đánh giá\n",
    "\n",
    "    # Lọc danh sách độ tương đồng của các user khác với user cần dự đoán\n",
    "    similarities = similarity_dict.get(user, {})\n",
    "    \n",
    "    # Merge dữ liệu để lấy các similarity scores\n",
    "    merge_df = data_ratings[data_ratings['userId'].isin(similarities.keys())].copy()\n",
    "    merge_df['similarity'] = merge_df['userId'].map(similarities)\n",
    "\n",
    "    # Lọc những đánh giá của các bộ phim chưa được xem\n",
    "    merge_df = merge_df[merge_df['movieId'].isin(unrated_movies)]\n",
    "\n",
    "    # Tính tổng trọng số rating dựa trên độ tương đồng\n",
    "    merge_df['weighted_rating'] = merge_df['rating'] * merge_df['similarity']\n",
    "\n",
    "    recommendation_scores = merge_df.groupby('movieId').agg({'weighted_rating': 'sum'})\n",
    "\n",
    "    # Lấy top 5 phim có tổng trọng số rating cao nhất\n",
    "    top_movies = recommendation_scores['weighted_rating'].nlargest(5).index.tolist()\n",
    "\n",
    "    if top_movies:\n",
    "        return top_movies\n",
    "    else:\n",
    "        return None"
   ]
  },
  {
   "cell_type": "code",
   "execution_count": 13,
   "metadata": {},
   "outputs": [],
   "source": [
    "def recommend_Movie_Cluster(user):\n",
    "\n",
    "    # Lấy cluster của người dùng\n",
    "    cluster = user_clusters_dict.get(user, {})\n",
    "\n",
    "    # Lọc ra những người dùng khác trong cùng cluster\n",
    "    cluster_users = data_ratings[(data_ratings['cluster'] == cluster)]\n",
    "\n",
    "    # Lấy danh sách các movieId\n",
    "    movies = set(cluster_users['movieId'])\n",
    "    rated_movies = set(cluster_users[cluster_users['userId'] == user]['movieId'])\n",
    "    unrated_movies = movies - rated_movies # Chỉ lấy những phim chưa được đánh giá\n",
    "  \n",
    "    # Lọc danh sách độ tương đồng của các user khác với user cần dự đoán\n",
    "    similarities = similarity_dict.get(user, {})\n",
    "\n",
    "    # Merge dữ liệu để lấy các user cùng cụm\n",
    "    merge_df = cluster_users[cluster_users['userId'].isin(similarities.keys())].copy()\n",
    "    merge_df['similarity'] = merge_df['userId'].map(similarities)\n",
    "\n",
    "    # Lọc những đánh giá của các bộ phim chưa được xem\n",
    "    merge_df = merge_df[merge_df['movieId'].isin(unrated_movies)]\n",
    "\n",
    "    # Tính tổng trọng số rating dựa trên độ tương đồng\n",
    "    merge_df['weighted_rating'] = merge_df['rating'] * merge_df['similarity']\n",
    "\n",
    "    recommendation_scores = merge_df.groupby('movieId').agg({'weighted_rating': 'sum'})\n",
    "\n",
    "    # Lấy top 5 phim có tổng trọng số rating cao nhất\n",
    "    top_movies = recommendation_scores['weighted_rating'].nlargest(5).index.tolist()\n",
    "\n",
    "    if top_movies:\n",
    "        return top_movies\n",
    "    else:\n",
    "        return None"
   ]
  },
  {
   "cell_type": "markdown",
   "metadata": {},
   "source": [
    "THỜI GIAN GỢI Ý BỘ PHIM"
   ]
  },
  {
   "cell_type": "code",
   "execution_count": 14,
   "metadata": {},
   "outputs": [],
   "source": [
    "# Loại bỏ các dòng có userId trùng lặp\n",
    "unique_data = data_ratings.drop_duplicates(subset=['userId'])"
   ]
  },
  {
   "cell_type": "code",
   "execution_count": 15,
   "metadata": {},
   "outputs": [
    {
     "name": "stdout",
     "output_type": "stream",
     "text": [
      "mean_prediction_time:  0.1572233236388655\n"
     ]
    }
   ],
   "source": [
    "def calculate_Time_Recommend_Nocluster():\n",
    "    recommend = []\n",
    "    for index, row in unique_data.iterrows():\n",
    "        user_id = row['userId']\n",
    "        start_time = time.time()\n",
    "        recommend_movies = recommend_Movie_Nocluster(user_id)\n",
    "        end_time = time.time()\n",
    "        prediction_time = end_time - start_time\n",
    "        recommend.append({'prediction_time': prediction_time})\n",
    "        \n",
    "    recommed_df = pd.DataFrame(recommend)\n",
    "    mean_recommend_time = recommed_df['prediction_time'].mean()\n",
    "    return  mean_recommend_time\n",
    "\n",
    "# Tính toán dự đoán rating cho tất cả các cặp user-movie\n",
    "mean_recommend_time = calculate_Time_Recommend_Nocluster()\n",
    "print(\"mean_prediction_time: \",mean_recommend_time)"
   ]
  },
  {
   "cell_type": "code",
   "execution_count": 16,
   "metadata": {},
   "outputs": [
    {
     "name": "stdout",
     "output_type": "stream",
     "text": [
      "mean_prediction_time:  0.0467858336619194\n"
     ]
    }
   ],
   "source": [
    "def calculate_Time_Recommend_Cluster():\n",
    "    recommend = []\n",
    "    for index, row in unique_data.iterrows():\n",
    "        user_id = row['userId']\n",
    "        start_time = time.time()\n",
    "        recommend_movies = recommend_Movie_Cluster(user_id)\n",
    "        end_time = time.time()\n",
    "        prediction_time = end_time - start_time\n",
    "        recommend.append({'prediction_time': prediction_time})\n",
    "        \n",
    "    recommed_df = pd.DataFrame(recommend)\n",
    "    mean_recommend_time = recommed_df['prediction_time'].mean()\n",
    "    return  mean_recommend_time\n",
    "\n",
    "# Tính toán dự đoán rating cho tất cả các cặp user-movie\n",
    "mean_recommend_time = calculate_Time_Recommend_Cluster()\n",
    "print(\"mean_prediction_time: \",mean_recommend_time)"
   ]
  },
  {
   "cell_type": "markdown",
   "metadata": {},
   "source": [
    "ĐÁNH GIÁ ĐỘ LỆCH GỢI Ý PHIM"
   ]
  },
  {
   "cell_type": "code",
   "execution_count": 15,
   "metadata": {},
   "outputs": [],
   "source": [
    "def calculate_total_weighted_recommendation(user, list_movies):\n",
    "    # Lấy danh sách các movieId\n",
    "    movies = set(data_ratings['movieId'])\n",
    "    rated_movies = set(data_ratings[data_ratings['userId'] == user]['movieId'])\n",
    "    unrated_movies = movies - rated_movies  # Chỉ lấy những phim chưa được đánh giá\n",
    "\n",
    "    # Lọc danh sách độ tương đồng của các user khác với user cần dự đoán\n",
    "    similarities = similarity_dict.get(user, {})\n",
    "\n",
    "    # Merge dữ liệu để lấy các similarity scores\n",
    "    merge_df = data_ratings[data_ratings['userId'].isin(similarities.keys())].copy()\n",
    "    merge_df['similarity'] = merge_df['userId'].map(similarities)\n",
    "\n",
    "    # Lọc những đánh giá của các bộ phim chưa được xem\n",
    "    merge_df = merge_df[merge_df['movieId'].isin(unrated_movies)]\n",
    "\n",
    "    # Tính tổng trọng số rating dựa trên độ tương đồng\n",
    "    merge_df['weighted_rating'] = merge_df['rating'] * merge_df['similarity']\n",
    "\n",
    "    # Tính tổng trọng số rating cho từng movieId\n",
    "    recommendation_scores = merge_df.groupby('movieId').agg({'weighted_rating': 'sum'})\n",
    "\n",
    "    # Tổng trọng số của tất cả các movieId\n",
    "    total_weighted_rating_movie = recommendation_scores['weighted_rating'].sum()\n",
    "    \n",
    "    # Lọc recommendation_scores dựa vào danh sách movie_ids\n",
    "    filtered_scores = recommendation_scores.loc[list_movies]\n",
    "\n",
    "    # Tính tổng trọng số rating cho danh sách movie_ids\n",
    "    total_weighted_rating = filtered_scores['weighted_rating'].sum()\n",
    "\n",
    "    return total_weighted_rating, total_weighted_rating_movie"
   ]
  },
  {
   "cell_type": "markdown",
   "metadata": {},
   "source": [
    "TỈ LỆ CHÊNH LỆCH CHO TỪNG USER"
   ]
  },
  {
   "cell_type": "code",
   "execution_count": null,
   "metadata": {},
   "outputs": [],
   "source": [
    "def generate_comparison_dataframe_user(user_list):\n",
    "    # Khởi tạo danh sách để lưu kết quả\n",
    "    results = []\n",
    "    # Lặp qua từng user trong danh sách user_list\n",
    "    for user in user_list:\n",
    "        # Tính tổng trọng số từ phương pháp không phân cụm\n",
    "        total_weighted_nocluster, total_weighted_rating_movie = calculate_total_weighted_recommendation(user, recommend_Movie_Nocluster(user))\n",
    "        \n",
    "        # Tính tổng trọng số từ phương pháp có phân cụm\n",
    "        total_weighted_cluster, total_weighted_rating_movie= calculate_total_weighted_recommendation(user, recommend_Movie_Cluster(user))\n",
    "\n",
    "        # Tính tổng trọng số lệch (độ chênh lệch tuyệt đối)\n",
    "        total_weighted_difference = abs(total_weighted_nocluster - total_weighted_cluster)\n",
    "\n",
    "        # Tính tỉ lệ chênh lệch giữa hai phương pháp\n",
    "        if total_weighted_rating_movie != 0:\n",
    "            ratio_difference = (total_weighted_difference* 100) / total_weighted_rating_movie\n",
    "        else:\n",
    "            ratio_difference = 0  # Xử lý khi tổng bằng 0 để tránh lỗi chia cho 0\n",
    "\n",
    "        # Thêm kết quả cho từng user vào danh sách\n",
    "        results.append({\n",
    "            \"User\": user,\n",
    "            \"Tổng trọng số không phân cụm\": f\"{total_weighted_nocluster:.6f}\",\n",
    "            \"Tổng trọng số có phân cụm\": f\"{total_weighted_cluster:.6f}\",\n",
    "            \"Tổng trọng số tất cả movie\": f\"{total_weighted_rating_movie:.6f}\",\n",
    "            \"Tỉ lệ chênh lệch (%)\": f\"{ratio_difference:.2f}%\"\n",
    "        })\n",
    "    # Chuyển danh sách kết quả thành DataFrame\n",
    "    df = pd.DataFrame(results)\n",
    "    df.to_excel('ratio_movie.xlsx')\n",
    "    return df"
   ]
  },
  {
   "cell_type": "markdown",
   "metadata": {},
   "source": [
    "TỈ LỆ CHÊNH LỆCH CỦA TẤT CẢ CÁC USER"
   ]
  },
  {
   "cell_type": "code",
   "execution_count": null,
   "metadata": {},
   "outputs": [],
   "source": [
    "all_users = data_ratings['userId'].unique()"
   ]
  },
  {
   "cell_type": "code",
   "execution_count": null,
   "metadata": {},
   "outputs": [],
   "source": [
    "def generate_comparison_dataframe_all_user(user_list):\n",
    "    # Khởi tạo danh sách để lưu kết quả\n",
    "    results = []\n",
    "    count_total_nocluster = 0\n",
    "    count_total_cluster = 0\n",
    "    count_total_weighted_rating_movie = 0\n",
    "    # Lặp qua từng user trong danh sách user_list\n",
    "    for user in user_list:\n",
    "        # Tính tổng trọng số từ phương pháp không phân cụm\n",
    "        total_weighted_nocluster, total_weighted_rating_movie = calculate_total_weighted_recommendation(user, recommend_Movie_Nocluster(user))\n",
    "        count_total_nocluster += total_weighted_nocluster\n",
    "        # Tính tổng trọng số từ phương pháp có phân cụm\n",
    "        total_weighted_cluster, total_weighted_rating_movie = calculate_total_weighted_recommendation(user, recommend_Movie_Cluster(user))\n",
    "        count_total_cluster += total_weighted_cluster\n",
    "        # Tính tổng trọng số của cả hai phương pháp\n",
    "        count_total_weighted_rating_movie += total_weighted_rating_movie\n",
    "    # Tính tổng trọng số lệch (độ chênh lệch tuyệt đối)\n",
    "    total_weighted_difference = abs(count_total_nocluster - count_total_cluster)\n",
    "\n",
    "    # Tính tỉ lệ chênh lệch giữa hai phương pháp\n",
    "    if total_weighted_rating_movie != 0:\n",
    "        ratio_difference = (total_weighted_difference*100) / count_total_weighted_rating_movie\n",
    "    else:\n",
    "        ratio_difference = 0  # Xử lý khi tổng bằng 0 để tránh lỗi chia cho 0\n",
    "    \n",
    "    # Thêm kết quả cho từng user vào danh sách\n",
    "    results.append({\n",
    "        \"Tổng User\": len(user_list),\n",
    "        \"Tổng trọng số không phân cụm của tất cả user\": f\"{count_total_nocluster:,.0f}\",\n",
    "        \"Tổng trọng số có phân cụm của tất cả user\": f\"{count_total_cluster:,.0f}\",\n",
    "        \"Tổng trọng số tất cả movie của tất cả user\": f\"{count_total_weighted_rating_movie:,.0f}\",\n",
    "        \"Tỉ lệ chênh lệch (%)\": f\"{ratio_difference:.2f}%\"\n",
    "    })\n",
    "    # Chuyển danh sách kết quả thành DataFrame\n",
    "    df = pd.DataFrame(results)\n",
    "    return df"
   ]
  }
 ],
 "metadata": {
  "colab": {
   "authorship_tag": "ABX9TyPCmisekST94gQ2AL7Ak0Ow",
   "provenance": []
  },
  "kernelspec": {
   "display_name": "Python 3",
   "language": "python",
   "name": "python3"
  },
  "language_info": {
   "codemirror_mode": {
    "name": "ipython",
    "version": 3
   },
   "file_extension": ".py",
   "mimetype": "text/x-python",
   "name": "python",
   "nbconvert_exporter": "python",
   "pygments_lexer": "ipython3",
   "version": "3.12.4"
  }
 },
 "nbformat": 4,
 "nbformat_minor": 4
}
