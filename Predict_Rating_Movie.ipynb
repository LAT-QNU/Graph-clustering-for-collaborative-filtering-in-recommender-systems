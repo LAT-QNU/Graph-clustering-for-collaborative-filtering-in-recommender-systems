{
 "cells": [
  {
   "cell_type": "code",
   "execution_count": 8,
   "metadata": {
    "id": "JyHvpw-cYtU1"
   },
   "outputs": [],
   "source": [
    "import math\n",
    "import csv\n",
    "import numpy as np # type: ignore\n",
    "import pandas as pd # type: ignore\n",
    "from sklearn.cluster import KMeans # type: ignore\n",
    "from sklearn.metrics.pairwise import cosine_similarity # type: ignore\n",
    "import time\n",
    "from sklearn.model_selection import train_test_split\n",
    "import matplotlib.pyplot as plt"
   ]
  },
  {
   "cell_type": "markdown",
   "metadata": {},
   "source": [
    "ĐỌC VÀ XỬ LÝ DỮ LIỆU"
   ]
  },
  {
   "cell_type": "code",
   "execution_count": 2,
   "metadata": {},
   "outputs": [],
   "source": [
    "data_ratings = pd.read_csv(\"data/ratings.dat\", encoding=\"utf-8\", sep='::', header=None, names=['userId','movieId','rating','tmp'], engine='python')\n",
    "del data_ratings['tmp']"
   ]
  },
  {
   "cell_type": "code",
   "execution_count": 6,
   "metadata": {},
   "outputs": [],
   "source": [
    "train_data, test_data = train_test_split(data_ratings, test_size=0.30, random_state=0)"
   ]
  },
  {
   "cell_type": "code",
   "execution_count": 7,
   "metadata": {},
   "outputs": [],
   "source": [
    "# Chuyển dữ liệu sang định dạng ma trận\n",
    "ratings_matrix = train_data.pivot_table(index='userId', columns='movieId', values='rating').fillna(0)\n",
    "\n",
    "# Tính ma trận tương tự cosin\n",
    "similarity_matrix = cosine_similarity(ratings_matrix)"
   ]
  },
  {
   "cell_type": "markdown",
   "metadata": {},
   "source": [
    "TÌM PHÂN CỤM TỐI ƯU VÀ PHÂN CỤM"
   ]
  },
  {
   "cell_type": "code",
   "execution_count": null,
   "metadata": {},
   "outputs": [],
   "source": [
    "wcss = []\n",
    "for c in range(1, 50):\n",
    "    kmeans = KMeans(n_clusters=c, random_state=0).fit(similarity_matrix)\n",
    "    wcss.append(kmeans.inertia_)\n",
    "plt.figure(figsize=(10, 5))\n",
    "plt.plot(range(1, 50), wcss, marker=\"o\")\n",
    "plt.title(\"Elbow Method For Optimal k\")\n",
    "plt.xlabel(\"Number of clusters\")\n",
    "plt.ylabel(\"WCSS\")\n",
    "plt.show()\n",
    "print(wcss)"
   ]
  },
  {
   "cell_type": "code",
   "execution_count": 5,
   "metadata": {},
   "outputs": [],
   "source": [
    "# Phân cụm user sử dụng K-means\n",
    "kmeans = KMeans(n_clusters=4, random_state=0).fit(similarity_matrix)\n",
    "\n",
    "# Gán nhãn cho người dùng\n",
    "user_clusters = pd.DataFrame({'userId': ratings_matrix.index, 'cluster': kmeans.labels_})"
   ]
  },
  {
   "cell_type": "markdown",
   "metadata": {},
   "source": [
    "CHUẨN HOÁ DỮ LIỆU"
   ]
  },
  {
   "cell_type": "code",
   "execution_count": 6,
   "metadata": {},
   "outputs": [],
   "source": [
    "# Chuyển đổi DataFrame sang từ điển\n",
    "user_clusters_dict = user_clusters.set_index('userId').to_dict()['cluster']"
   ]
  },
  {
   "cell_type": "code",
   "execution_count": 7,
   "metadata": {},
   "outputs": [],
   "source": [
    "# Thêm cột cluster vào DataFrame\n",
    "train_data['cluster'] = train_data['userId'].map(dict(zip(ratings_matrix.index, kmeans.labels_)))"
   ]
  },
  {
   "cell_type": "code",
   "execution_count": 8,
   "metadata": {},
   "outputs": [],
   "source": [
    "# Chuyển đổi ma trận tương tự thành dataframe\n",
    "similarity_df = pd.DataFrame(similarity_matrix, index=ratings_matrix.index, columns=ratings_matrix.index)\n",
    "\n",
    "# Chuyển dataframe sang long format\n",
    "similarity_df = similarity_df.reset_index().melt(id_vars='userId', value_name='similarity', var_name='userId2')\n",
    "\n",
    "# Bỏ các hàng có userId bằng userId2\n",
    "similarity_df = similarity_df[similarity_df['userId'] != similarity_df['userId2']]\n",
    "\n",
    "# Đổi tên cột\n",
    "similarity_df = similarity_df.rename(columns={'userId': 'u1', 'userId2': 'u2'})\n",
    "\n",
    "# Sắp xếp các giá trị theo u1, u2\n",
    "similarity_df = similarity_df.sort_values(['u1', 'u2']).reset_index(drop=True)\n"
   ]
  },
  {
   "cell_type": "code",
   "execution_count": 9,
   "metadata": {},
   "outputs": [],
   "source": [
    "# Chuyển similarity_df sang dictionary để tăng tốc độ truy vấn\n",
    "similarity_dict = similarity_df.set_index('u1').groupby(level=0).apply(lambda x: x.set_index('u2')['similarity'].to_dict()).to_dict()"
   ]
  },
  {
   "cell_type": "markdown",
   "metadata": {},
   "source": [
    "DỰ ĐOÁN ĐÁNH GIÁ BỘ PHIM"
   ]
  },
  {
   "cell_type": "code",
   "execution_count": 10,
   "metadata": {},
   "outputs": [],
   "source": [
    "def predict_Rating_Nocluster(user, movie):\n",
    "    # Lọc ra tất cả các đánh giá của bộ phim từ các người dùng khác, không bao gồm người dùng hiện tại\n",
    "    user_ratings = train_data[(train_data['movieId'] == movie) & (train_data['userId'] != user)]\n",
    "\n",
    "    # Lọc danh sách độ tương đồng của các user khác với user cần dự đoán\n",
    "    similarities = similarity_dict.get(user, {})\n",
    "    \n",
    "    # Merge dữ liệu để lấy các similarity scores\n",
    "    merge_df = user_ratings[user_ratings['userId'].isin(similarities.keys())].copy()\n",
    "    merge_df['similarity'] = merge_df['userId'].map(similarities)\n",
    "\n",
    "    # Tính weighted sum của ratings dựa trên similarity\n",
    "    merge_df['weighted_rating'] = merge_df['rating'] * merge_df['similarity']\n",
    "\n",
    "    # Tính tổng các trọng số và tổng trọng số rating\n",
    "    sum_similarity = merge_df['similarity'].sum()\n",
    "    sum_weighted_ratings = merge_df['weighted_rating'].sum()\n",
    "\n",
    "    # Tính toán điểm rating dự đoán cuối cùng\n",
    "    if sum_similarity > 0:\n",
    "        predicted_rating = sum_weighted_ratings / sum_similarity\n",
    "    else:\n",
    "        predicted_rating = 0  # Nếu không có similarity nào, đặt giá trị mặc định là 0\n",
    "    \n",
    "    return predicted_rating\n"
   ]
  },
  {
   "cell_type": "code",
   "execution_count": 11,
   "metadata": {},
   "outputs": [],
   "source": [
    "def predict_Rating_Cluster(user, movie):\n",
    "\n",
    "    cluster = user_clusters_dict.get(user, {})\n",
    "\n",
    "    # Lấy các user cùng cụm với user đầu vào và đã rate movie này\n",
    "    user_ratings = train_data[(train_data['movieId'] == movie) & (train_data['cluster'] == cluster)]\n",
    "\n",
    "    # Lọc danh sách độ tương đồng của các user khác với user cần dự đoán\n",
    "    similarities = similarity_dict.get(user, {})\n",
    "    \n",
    "    # Merge dữ liệu để lấy các user cùng cụm và similarity scores\n",
    "    merge_df = user_ratings[user_ratings['userId'].isin(similarities.keys())].copy()\n",
    "    merge_df['similarity'] = merge_df['userId'].map(similarities)\n",
    "\n",
    "    # Tính weighted sum của ratings dựa trên similarity\n",
    "    merge_df['weighted_rating'] = merge_df['rating'] * merge_df['similarity']\n",
    "\n",
    "    # Tính tổng các trọng số và tổng trọng số rating\n",
    "    sum_similarity = merge_df['similarity'].sum()\n",
    "    sum_weighted_ratings = merge_df['weighted_rating'].sum()\n",
    "\n",
    "    # Tính toán điểm rating dự đoán cuối cùng\n",
    "    if sum_similarity > 0:\n",
    "        predicted_rating = sum_weighted_ratings / sum_similarity\n",
    "    else:\n",
    "        # Nếu không có similarity nào, sử dụng giá trị trung bình của cụm\n",
    "        predicted_rating = 0\n",
    "    \n",
    "    return predicted_rating"
   ]
  },
  {
   "cell_type": "markdown",
   "metadata": {},
   "source": [
    "THỜI GIAN DỰ ĐOÁN ĐÁNH GIÁ CHO BỘ PHIM"
   ]
  },
  {
   "cell_type": "code",
   "execution_count": null,
   "metadata": {},
   "outputs": [],
   "source": [
    "def calculate_Time_Predict_Nocluster():\n",
    "    predictions = []\n",
    "    for index, row in test_data.iterrows():\n",
    "        user_id = row['userId']\n",
    "        movie_id = row['movieId']\n",
    "        start_time = time.time()\n",
    "        predicted_rating = predict_Rating_Nocluster(user_id, movie_id)\n",
    "        end_time = time.time()\n",
    "        prediction_time = end_time - start_time\n",
    "        predictions.append({'prediction_time': prediction_time})\n",
    "        \n",
    "    predictions_df = pd.DataFrame(predictions)\n",
    "    mean_prediction_time = predictions_df['prediction_time'].mean()\n",
    "    return mean_prediction_time\n",
    "\n",
    "# Tính toán dự đoán rating cho tất cả các cặp user-movie\n",
    "mean_prediction_time = calculate_Time_Predict_Nocluster()\n",
    "print(\"mean_prediction_time: \",mean_prediction_time)\n"
   ]
  },
  {
   "cell_type": "code",
   "execution_count": null,
   "metadata": {},
   "outputs": [],
   "source": [
    "def calculate_Time_Predict_Cluster():\n",
    "    predictions = []\n",
    "    for index, row in test_data.iterrows():\n",
    "        user_id = row['userId']\n",
    "        movie_id = row['movieId']\n",
    "        start_time = time.time()\n",
    "        predicted_rating = predict_Rating_Cluster(user_id, movie_id)\n",
    "        end_time = time.time()\n",
    "        prediction_time = end_time - start_time\n",
    "        predictions.append({'prediction_time': prediction_time})\n",
    "        \n",
    "    predictions_df = pd.DataFrame(predictions)\n",
    "    mean_prediction_time = predictions_df['prediction_time'].mean()\n",
    "    return mean_prediction_time\n",
    "\n",
    "# Tính toán dự đoán rating cho tất cả các cặp user-movie\n",
    "mean_prediction_time = calculate_Time_Predict_Cluster()\n",
    "print(\"mean_prediction_time: \",mean_prediction_time)"
   ]
  },
  {
   "cell_type": "markdown",
   "metadata": {},
   "source": [
    "TÍNH TOÁN MAE, RMSE CHO DỰ ĐOÁN ĐÁNH GIÁ BỘ PHIM"
   ]
  },
  {
   "cell_type": "code",
   "execution_count": 14,
   "metadata": {},
   "outputs": [],
   "source": [
    "def MAE_RMSE_Predict_Nocluster(test_data):\n",
    "    predictions = []\n",
    "    actuals = []\n",
    "\n",
    "    for index, row in test_data.iterrows():\n",
    "        user_id = row['userId']\n",
    "        movie_id = row['movieId']\n",
    "        actual_rating = row['rating']\n",
    "\n",
    "        # Dự đoán rating dựa trên mô hình đã xây dựng\n",
    "        predicted_rating = predict_Rating_Nocluster(user_id, movie_id)\n",
    "\n",
    "        # Lưu lại giá trị dự đoán và giá trị thực tế\n",
    "        predictions.append(predicted_rating)\n",
    "        actuals.append(actual_rating)\n",
    "\n",
    "    # Tạo DataFrame từ danh sách predictions và actuals\n",
    "    results_df_predict_noclus = pd.DataFrame({\n",
    "        'predicted': predictions,\n",
    "        'actual': actuals\n",
    "    })\n",
    "\n",
    "    return results_df_predict_noclus\n",
    "\n",
    "# Sử dụng hàm RMSE_Noclus để lấy DataFrame kết quả\n",
    "results_df_predict_noclus = MAE_RMSE_Predict_Nocluster(test_data)\n",
    "\n",
    "# Xuất DataFrame kết quả ra file Excel\n",
    "results_df_predict_noclus.to_csv('results_noclus.csv', index=False, header=False)"
   ]
  },
  {
   "cell_type": "code",
   "execution_count": 15,
   "metadata": {},
   "outputs": [],
   "source": [
    "def MAE_RMSE_Predict_Cluster(test_data):\n",
    "    predictions = []\n",
    "    actuals = []\n",
    "\n",
    "    for index, row in test_data.iterrows():\n",
    "        user_id = row['userId']\n",
    "        movie_id = row['movieId']\n",
    "        actual_rating = row['rating']\n",
    "\n",
    "        # Dự đoán rating dựa trên mô hình đã xây dựng\n",
    "        predicted_rating = predict_Rating_Cluster(user_id, movie_id)\n",
    "\n",
    "        # Lưu lại giá trị dự đoán và giá trị thực tế\n",
    "        predictions.append(predicted_rating)\n",
    "        actuals.append(actual_rating)\n",
    "\n",
    "    # Tạo DataFrame từ danh sách predictions và actuals\n",
    "    results_df_predict_clus = pd.DataFrame({\n",
    "        'predicted': predictions,\n",
    "        'actual': actuals\n",
    "    })\n",
    "\n",
    "    return results_df_predict_clus\n",
    "\n",
    "# Sử dụng hàm RMSE_Noclus để lấy DataFrame kết quả\n",
    "results_df_predict_clus = MAE_RMSE_Predict_Cluster(test_data)\n",
    "\n",
    "# Xuất DataFrame kết quả ra file Excel\n",
    "results_df_predict_clus.to_csv('results_clus.csv', index=False, header=False)"
   ]
  },
  {
   "cell_type": "code",
   "execution_count": null,
   "metadata": {},
   "outputs": [],
   "source": [
    "results_df_predict_noclus = pd.read_csv(\"results_noclus.csv\", encoding=\"utf-8\", sep=',', header=None, names=['predicted','actual'], engine='python')\n",
    "\n",
    "def evaluate_Predict_MAE_RMSE_Nocluster(results_df_predict_noclus):\n",
    "    # Tính toán MSE và RMSE từ DataFrame\n",
    "    mae = np.mean(np.abs(results_df_predict_noclus['predicted'] - results_df_predict_noclus['actual']))\n",
    "    rmse = np.sqrt(np.mean((results_df_predict_noclus['predicted'] - results_df_predict_noclus['actual']) ** 2))\n",
    "    return mae, rmse\n",
    "\n",
    "# Tính toán MSE và RMSE từ DataFrame\n",
    "test_mae, test_rmse = evaluate_Predict_MAE_RMSE_Nocluster(results_df_predict_noclus)\n",
    "print(f'MAE của hàm predict_Rating_Nocluster là: {test_mae}')\n",
    "print(f'RMSE của hàm predict_Rating_Nocluster là: {test_rmse}')"
   ]
  },
  {
   "cell_type": "code",
   "execution_count": null,
   "metadata": {},
   "outputs": [],
   "source": [
    "results_df_predict_clus = pd.read_csv(\"results_clus.csv\", encoding=\"utf-8\", sep=',', header=None, names=['predicted','actual'], engine='python')\n",
    "\n",
    "def evaluate_Predict_MAE_RMSE_Cluster(results_df_predict_clus):\n",
    "    # Tính toán MSE và RMSE từ DataFrame\n",
    "    mae = np.mean(np.abs(results_df_predict_clus['predicted'] - results_df_predict_clus['actual']))\n",
    "    rmse = np.sqrt(np.mean((results_df_predict_clus['predicted'] - results_df_predict_clus['actual']) ** 2))\n",
    "    return mae, rmse\n",
    "\n",
    "# Tính toán MSE và RMSE từ DataFrame\n",
    "test_mae, test_rmse = evaluate_Predict_MAE_RMSE_Cluster(results_df_predict_clus)\n",
    "\n",
    "print(f'MAE của hàm predict_Rating_Cluster là: {test_mae}')\n",
    "print(f'RMSE của hàm predict_Rating_Cluster là: {test_rmse}')"
   ]
  }
 ],
 "metadata": {
  "colab": {
   "authorship_tag": "ABX9TyPCmisekST94gQ2AL7Ak0Ow",
   "provenance": []
  },
  "kernelspec": {
   "display_name": "Python 3",
   "language": "python",
   "name": "python3"
  },
  "language_info": {
   "codemirror_mode": {
    "name": "ipython",
    "version": 3
   },
   "file_extension": ".py",
   "mimetype": "text/x-python",
   "name": "python",
   "nbconvert_exporter": "python",
   "pygments_lexer": "ipython3",
   "version": "3.12.4"
  }
 },
 "nbformat": 4,
 "nbformat_minor": 4
}
